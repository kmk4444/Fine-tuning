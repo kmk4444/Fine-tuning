{
  "nbformat": 4,
  "nbformat_minor": 0,
  "metadata": {
    "colab": {
      "provenance": [],
      "authorship_tag": "ABX9TyOfH6sQ1+YISFZ/0jlDOYn1",
      "include_colab_link": true
    },
    "kernelspec": {
      "name": "python3",
      "display_name": "Python 3"
    },
    "language_info": {
      "name": "python"
    }
  },
  "cells": [
    {
      "cell_type": "markdown",
      "metadata": {
        "id": "view-in-github",
        "colab_type": "text"
      },
      "source": [
        "<a href=\"https://colab.research.google.com/github/kmk4444/Fine-tuning/blob/main/00_gguf.ipynb\" target=\"_parent\"><img src=\"https://colab.research.google.com/assets/colab-badge.svg\" alt=\"Open In Colab\"/></a>"
      ]
    },
    {
      "cell_type": "markdown",
      "source": [
        "We used gguf for cpu but if you want to work in gpu platform, you should learn different methods."
      ],
      "metadata": {
        "id": "ncR-z8d8Mu3b"
      }
    },
    {
      "cell_type": "code",
      "execution_count": 3,
      "metadata": {
        "id": "wP43IeJECiaU",
        "colab": {
          "base_uri": "https://localhost:8080/"
        },
        "outputId": "adadff6b-b675-45a8-c389-aa339bb6bb92"
      },
      "outputs": [
        {
          "output_type": "stream",
          "name": "stdout",
          "text": [
            "Original Parametre Value: 0.434919\n",
            "Quantized Value: 7\n"
          ]
        }
      ],
      "source": [
        "## Quantization Example using GGUF\n",
        "\n",
        "def quantize_gguf(floating_point_parameter, number_of_bits, number_of_fraction_bits):\n",
        "  # Determining the endpoints to be represented with GGUF\n",
        "  max_value = 2 ** (number_of_bits -1) -1\n",
        "  min_value = -2 ** (number_of_bits -1)\n",
        "  # These lines calculate the representable range for the given number of bits. Since GGUF uses signed representation, it considers both positive and negative values.\n",
        "  # Calculate the scaling factor\n",
        "  scale = 2** number_of_fraction_bits\n",
        "\n",
        "  # Quantize the decimal number with GGUF\n",
        "  quantized_value = round(floating_point_parameter * scale) # This line defines a scaling factor based on the number of fractional bits. This factor will be used to scale the input number before quantization.\n",
        "   # Reflect the quantized value onto a representable range\n",
        "  quantized_value = max(min(quantized_value,max_value),min_value) # This line performs the core quantization by multiplying the input with the scaling factor and then rounding the result.\n",
        "\n",
        "  return quantized_value\n",
        "\n",
        "# Sample Parameter | 8 bit\n",
        "float_num = 0.434919\n",
        "num_bits = 8\n",
        "num_frac_bits = 4\n",
        "\n",
        "quantized_num = quantize_gguf(float_num, num_bits, num_frac_bits)\n",
        "\n",
        "print(f\"Original Parametre Value: {float_num}\")\n",
        "print(f\"Quantized Value: {quantized_num}\")\n"
      ]
    }
  ]
}