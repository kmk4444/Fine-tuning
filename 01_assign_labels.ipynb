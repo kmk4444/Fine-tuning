{
  "nbformat": 4,
  "nbformat_minor": 0,
  "metadata": {
    "colab": {
      "provenance": [],
      "authorship_tag": "ABX9TyOT1PC5RvjTxM0Ij9Catjve",
      "include_colab_link": true
    },
    "kernelspec": {
      "name": "python3",
      "display_name": "Python 3"
    },
    "language_info": {
      "name": "python"
    }
  },
  "cells": [
    {
      "cell_type": "markdown",
      "metadata": {
        "id": "view-in-github",
        "colab_type": "text"
      },
      "source": [
        "<a href=\"https://colab.research.google.com/github/kmk4444/Fine-tuning/blob/main/01_assign_labels.ipynb\" target=\"_parent\"><img src=\"https://colab.research.google.com/assets/colab-badge.svg\" alt=\"Open In Colab\"/></a>"
      ]
    },
    {
      "cell_type": "markdown",
      "source": [
        "- Labels were assigned by using google-gemini."
      ],
      "metadata": {
        "id": "H_fQe4whzeck"
      }
    },
    {
      "cell_type": "code",
      "source": [
        "!touch requirements.txt\n",
        "!echo pandas >> requirements.txt\n",
        "!echo openpyxl >> requirements.txt\n",
        "!echo openai >> requirements.txt\n",
        "!echo python-dotenv >> requirements.txt\n",
        "!echo streamlit >> requirements.txt\n",
        "!echo langchain-google-genai >> requirements.txt\n",
        "!echo langchain >> requirements.txt\n",
        "!echo langchain-openai >> requirements.txt\n",
        "!echo streamlit >> requirements.txt"
      ],
      "metadata": {
        "id": "wp9W7Ajxzlg-"
      },
      "execution_count": 1,
      "outputs": []
    },
    {
      "cell_type": "code",
      "source": [
        "pip install -r requirements.txt"
      ],
      "metadata": {
        "id": "Whxf5jf-0zHX"
      },
      "execution_count": null,
      "outputs": []
    },
    {
      "cell_type": "code",
      "execution_count": 7,
      "metadata": {
        "id": "Swgix8KJKqe9",
        "colab": {
          "base_uri": "https://localhost:8080/"
        },
        "outputId": "97327c8d-b79c-4156-fbac-4ab379917269"
      },
      "outputs": [
        {
          "output_type": "stream",
          "name": "stdout",
          "text": [
            "Overwriting assign_label.py\n"
          ]
        }
      ],
      "source": [
        "%%writefile assign_label.py\n",
        "#Import the necessary libraries: os, pandas, streamlit, dotenv, and langchain_google_genai.\n",
        "import os\n",
        "import pandas as pd\n",
        "import streamlit as st\n",
        "from dotenv import load_dotenv\n",
        "from langchain_google_genai import ChatGoogleGenerativeAI\n",
        "\n",
        "# load_dotenv()\n",
        "# my_key_google = os.getenv(\"google_apikey\")\n",
        "\n",
        "my_key_google=\"----\"\n",
        "\n",
        "llm_gemini = ChatGoogleGenerativeAI(model=\"gemini-pro\", google_api_key=my_key_google)\n",
        "\n",
        "#Instructions for the language model\n",
        "system_prompt = \"\"\"Sen bir Türk edebiyatı uzmanısın. Türk şiir literatürünü çok iyi biliyorsun.\n",
        "Özellikle de Orhan Veli şiirlerini çok iyi biliyorsun.\n",
        "Sana verilen Orhan Veli şiirlerinde ele alınan konuyu, temayı, duyguyu, şiirdeki başlıca motifleri tespit edebiliyorsun.\n",
        "Yanıtını verirken bu tespit ettiğin konu, tema, duygu veya motifleri aralarında birer virgül olacak şekilde yazıyorsun.\n",
        "Yanıtında sadece bunları yazıyorsun. Başka hiçbir açıklama ya da ek bilgi vermiyorsun.\n",
        "\"\"\"\n",
        "\n",
        "#Specific question to ask the language model\n",
        "prompt = \"Orhan Veli'nin aşağıdaki şiirinde ele alınan konu, tema, duygu veya motifleri yaz.\"\n",
        "\n",
        "#Path to the input Excel file\n",
        "source_file_path=\"/content/siir.xlsx\"\n",
        "#Path to the output Excel file\n",
        "target_file_path=source_file_path\n",
        "\n",
        "#Set the page title and header\n",
        "st.set_page_config(page_title=\"Şiir Etiketleme Uygulaması\")\n",
        "st.title(\"Şiir Etiketleme Uygulaması\")\n",
        "st.divider()\n",
        "\n",
        "start_row = st.number_input(\"Başlangıç Satırı\",min_value=1, value=1) #Number input field for the starting row\n",
        "end_row = st.number_input(\"Bitiş Satırı\", min_value=1, value=10)#Number input field for the ending row\n",
        "submit_btn = st.button(label=\"Etiketle\")#Button to trigger the labeling process\n",
        "\n",
        "if submit_btn:\n",
        "\n",
        "  df = pd.read_excel(source_file_path, engine=\"openpyxl\")\n",
        "\n",
        "  progress_bar = st.progress(0)\n",
        "  total_rows = end_row - start_row + 1\n",
        "\n",
        "  for index, row in df.iloc[start_row-1:end_row].iterrows(): #This selects rows from start_row-1 (zero-based indexing) to end_row (exclusive) in the DataFrame.\n",
        "  #This method iterates over the selected rows, providing the row index (index) and the row data (row) in each iteration.\n",
        "    #This block creates a try-except loop to handle potential errors during processing.\n",
        "    try:\n",
        "      siir = row['siir'] #This line extracts the poem text from the current row using the column name 'siir' and assigns it to the variable siir.\n",
        "\n",
        "      full_prompt = f\"{system_prompt} {prompt} {siir}\" # It uses f-strings to concatenate the system_prompt, prompt, and the extracted poem text(siir).\n",
        "      #The resulting string is stored in the variable full_prompt.\n",
        "\n",
        "      AI_response = llm_gemini.invoke(input=full_prompt)\n",
        "\n",
        "      df.at[index, 'response'] = AI_response.content #It uses the at method to access a specific cell by its index (index) and column name ('response').\n",
        "\n",
        "    #This lines catches any exceptions that might occur during processing (e.g., issues with the API call).\n",
        "    except Exception as e:#The exception object is stored  in the variable e.\n",
        "      st.error(f\"Şu satırı işlerken hata oluştu: {index + 1}: {e}. Sonraki satıra geçiliyor...\")\n",
        "      continue #It also includes the specific exception message (e) and indicates that the script will continue to the next row.\n",
        "\n",
        "    progress_percentage = (index + 1 - (start_row-1)) /total_rows # This line calculates the progress percentage based on the current row (index) and the total number of rows.\n",
        "    progress_bar.progress(progress_percentage) # This line updates the progress bar using Streamlit's progress method.\n",
        "\n",
        "  df.to_excel(target_file_path, index=False, engine=\"openpyxl\") # This line saves modified DataFrame df back to an Excel file.\n",
        "  #target_file_path: This specifies the path where the file will be saved (same path as the original file defined earlier).\n",
        "  #index=False: This argument prevents the row index from being saved as a separate column in the Excel file.\n",
        "  #engine=\"openpyxl\" This option again specifies the library (openpyxl) used to write the data to the excel format.\n",
        "  progress_bar.empty() # This line empties the progress bar after it has reached 100% completion. This removes the progress bar from the Streamlit interface.\n",
        "\n",
        "  st.success(\"Etiketleme İşlemi Tamamlandı\")\n",
        "\n",
        "st.dataframe(pd.read_excel(target_file_path, engine=\"openpyxl\")) # This part reads the newly saved Excel file back into a Pandas DataFrame.\n",
        "\n"
      ]
    },
    {
      "cell_type": "code",
      "source": [
        "!npm install localtunnel\n",
        "!streamlit run /content/assign_label.py &>/content/logs.txt &\n",
        "!npx localtunnel --port 8501"
      ],
      "metadata": {
        "colab": {
          "base_uri": "https://localhost:8080/"
        },
        "id": "qrptsLUp6qJG",
        "outputId": "a0260447-af9b-4c66-f7ee-5b28c88ac8d1"
      },
      "execution_count": null,
      "outputs": [
        {
          "output_type": "stream",
          "name": "stdout",
          "text": [
            "\u001b[K\u001b[?25h\u001b[37;40mnpm\u001b[0m \u001b[0m\u001b[30;43mWARN\u001b[0m \u001b[0m\u001b[35msaveError\u001b[0m ENOENT: no such file or directory, open '/content/package.json'\n",
            "\u001b[0m\u001b[37;40mnpm\u001b[0m \u001b[0m\u001b[30;43mWARN\u001b[0m \u001b[0m\u001b[35menoent\u001b[0m ENOENT: no such file or directory, open '/content/package.json'\n",
            "\u001b[0m\u001b[37;40mnpm\u001b[0m \u001b[0m\u001b[30;43mWARN\u001b[0m\u001b[35m\u001b[0m content No description\n",
            "\u001b[0m\u001b[37;40mnpm\u001b[0m \u001b[0m\u001b[30;43mWARN\u001b[0m\u001b[35m\u001b[0m content No repository field.\n",
            "\u001b[0m\u001b[37;40mnpm\u001b[0m \u001b[0m\u001b[30;43mWARN\u001b[0m\u001b[35m\u001b[0m content No README data\n",
            "\u001b[0m\u001b[37;40mnpm\u001b[0m \u001b[0m\u001b[30;43mWARN\u001b[0m\u001b[35m\u001b[0m content No license field.\n",
            "\u001b[0m\n",
            "+ localtunnel@2.0.2\n",
            "updated 1 package and audited 36 packages in 0.836s\n",
            "\n",
            "3 packages are looking for funding\n",
            "  run `npm fund` for details\n",
            "\n",
            "found 2 \u001b[93mmoderate\u001b[0m severity vulnerabilities\n",
            "  run `npm audit fix` to fix them, or `npm audit` for details\n",
            "\u001b[K\u001b[?25hnpx: installed 22 in 3.61s\n",
            "your url is: https://whole-items-fail.loca.lt\n"
          ]
        }
      ]
    }
  ]
}