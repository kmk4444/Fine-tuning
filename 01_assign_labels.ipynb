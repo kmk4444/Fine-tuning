{
  "nbformat": 4,
  "nbformat_minor": 0,
  "metadata": {
    "colab": {
      "provenance": [],
      "authorship_tag": "ABX9TyNcLN8/EQJqw2URVihk8K9H",
      "include_colab_link": true
    },
    "kernelspec": {
      "name": "python3",
      "display_name": "Python 3"
    },
    "language_info": {
      "name": "python"
    }
  },
  "cells": [
    {
      "cell_type": "markdown",
      "metadata": {
        "id": "view-in-github",
        "colab_type": "text"
      },
      "source": [
        "<a href=\"https://colab.research.google.com/github/kmk4444/Fine-tuning/blob/main/01_assign_labels.ipynb\" target=\"_parent\"><img src=\"https://colab.research.google.com/assets/colab-badge.svg\" alt=\"Open In Colab\"/></a>"
      ]
    },
    {
      "cell_type": "code",
      "execution_count": null,
      "metadata": {
        "id": "Swgix8KJKqe9"
      },
      "outputs": [],
      "source": [
        "#Import the necessary libraries: os, pandas, streamlit, dotenv, and langchain_google_genai.\n",
        "import os\n",
        "import pandas as pd\n",
        "import streamlit as st\n",
        "from dotenv import load_dotenv\n",
        "from langchain_google_genai import ChatGoogleGenerativeAI\n",
        "\n",
        "# load_dotenv()\n",
        "# my_key_google = os.getenv(\"google_apikey\")\n",
        "\n",
        "my_key_google=\"----\"\n",
        "\n",
        "llm_gemini = ChatGoogleGenerativeAI(model=\"gemini-pro\", google_api_key=my_key_google)\n",
        "\n",
        "#Instructions for the language model\n",
        "system_prompt = \"\"\"Sen bir Türk edebiyatı uzmanısın. Türk şiir literatürünü çok iyi biliyorsun.\n",
        "Özellikle de Orhan Veli şiirlerini çok iyi biliyorsun.\n",
        "Sana verilen Orhan Veli şiirlerinde ele alınan konuyu, temayı, duyguyu, şiirdeki başlıca motifleri tespit edebiliyorsun.\n",
        "Yanıtını verirken bu tespit ettiğin konu, tema, duygu veya motifleri aralarında birer virgül olacak şekilde yazıyorsun.\n",
        "Yanıtında sadece bunları yazıyorsun. Başka hiçbir açıklama ya da ek bilgi vermiyorsun.\n",
        "\"\"\"\n",
        "\n",
        "#Specific question to ask the language model\n",
        "prompt = \"Orhan Veli'nin aşağıdaki şiirinde ele alınan konu, tema, duygu veya motifleri yaz.\"\n",
        "\n",
        "#Path to the input Excel file\n",
        "source_file_path=\"./data/siir.xlsx\"\n",
        "#Path to the output Excel file\n",
        "target_file_path=source_file_path\n",
        "\n",
        "#Set the page title and header\n",
        "st.set_page_config(page_title=\"Şiir Etiketleme Uygulaması\")\n",
        "st.title(\"Şiir Etiketleme Uygulaması\")\n",
        "st.divider()\n",
        "\n",
        "start_row = st.number_input(\"Başlangıç Satırı\",min_value=1, value=1) #Number input field for the starting row\n",
        "end_row = st.number_input(\"Bitiş Satırı\", min_value=1, value=10)#Number input field for the ending row\n",
        "submit_btn = st.button(label=\"Etiketle\")#Button to trigger the labeling process\n",
        "\n",
        "if submit_btn:\n",
        "\n",
        "  df = pd.read_excel(source_file_path, engine=\"openpyxl\")\n",
        "\n",
        "  progress_bar = st.progress(0)\n",
        "  total_rows = end_row - start_row + 1\n",
        "\n",
        "  for index, row in df.iloc[start_row-1:end_row].iterrows(): #This selects rows from start_row-1 (zero-based indexing) to end_row (exclusive) in the DataFrame.\n",
        "  #This method iterates over the selected rows, providing the row index (index) and the row data (row) in each iteration.\n",
        "    #This block creates a try-except loop to handle potential errors during processing.\n",
        "    try:\n",
        "      siir = row['siir'] #This line extracts the poem text from the current row using the column name 'siir' and assigns it to the variable siir.\n",
        "\n",
        "      full_prompt = f\"{system_prompt} {prompt} {siir}\" # It uses f-strings to concatenate the system_prompt, prompt, and the extracted poem text(siir).\n",
        "      #The resulting string is stored in the variable full_prompt.\n",
        "\n",
        "      AI_response = llm_gemini.invoke(input=full_prompt)\n",
        "\n",
        "      df.at[index, 'response'] = AI_response.content #It uses the at method to access a specific cell by its index (index) and column name ('response').\n",
        "\n",
        "    #This lines catches any exceptions that might occur during processing (e.g., issues with the API call).\n",
        "    except Exception as e:#The exception object is stored  in the variable e.\n",
        "      st.error(f\"Şu satırı işlerken hata oluştu: {index + 1}: {e}. Sonraki satıra geçiliyor...\")\n",
        "      continue #It also includes the specific exception message (e) and indicates that the script will continue to the next row.\n",
        "\n",
        "    progress_percentage = (index + 1 - (start_row-1)) /total_rows # This line calculates the progress percentage based on the current row (index) and the total number of rows.\n",
        "    progress_bar.progress(progress_percentage) # This line updates the progress bar using Streamlit's progress method.\n",
        "\n",
        "  df.to_excel(target_file_path, index=False, engine=\"openpyxl\") # This line saves modified DataFrame df back to an Excel file.\n",
        "  #target_file_path: This specifies the path where the file will be saved (same path as the original file defined earlier).\n",
        "  #index=False: This argument prevents the row index from being saved as a separate column in the Excel file.\n",
        "  #engine=\"openpyxl\" This option again specifies the library (openpyxl) used to write the data to the excel format.\n",
        "  progress_bar.empty() # This line empties the progress bar after it has reached 100% completion. This removes the progress bar from the Streamlit interface.\n",
        "\n",
        "  st.success(\"Etiketleme İşlemi Tamamlandı\")\n",
        "\n",
        "st.dataframe(pd.read_excel(target_file_path, engine=\"openpyxl\")) # This part reads the newly saved Excel file back into a Pandas DataFrame.\n",
        "\n"
      ]
    }
  ]
}