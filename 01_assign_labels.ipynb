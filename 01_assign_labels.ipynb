{
  "nbformat": 4,
  "nbformat_minor": 0,
  "metadata": {
    "colab": {
      "provenance": [],
      "authorship_tag": "ABX9TyOFA2WwjqPT4OMvOHYlG2WD",
      "include_colab_link": true
    },
    "kernelspec": {
      "name": "python3",
      "display_name": "Python 3"
    },
    "language_info": {
      "name": "python"
    }
  },
  "cells": [
    {
      "cell_type": "markdown",
      "metadata": {
        "id": "view-in-github",
        "colab_type": "text"
      },
      "source": [
        "<a href=\"https://colab.research.google.com/github/kmk4444/Fine-tuning/blob/main/01_assign_labels.ipynb\" target=\"_parent\"><img src=\"https://colab.research.google.com/assets/colab-badge.svg\" alt=\"Open In Colab\"/></a>"
      ]
    },
    {
      "cell_type": "code",
      "execution_count": null,
      "metadata": {
        "id": "Swgix8KJKqe9"
      },
      "outputs": [],
      "source": [
        "import os\n",
        "import pandas as pd\n",
        "import streamlit as st\n",
        "from dotenv import load_dotenv\n",
        "from langchain_google_genai import ChatGoogleGenerativeAI\n",
        "\n",
        "# load_dotenv()\n",
        "# my_key_google = os.getenv(\"google_apikey\")\n",
        "\n",
        "my_key_google=\"----\"\n",
        "\n",
        "llm_gemini = ChatGoogleGenerativeAI(model=\"gemini-pro\", google_api_key=my_key_google)\n",
        "\n",
        "system_prompt = \"\"\"Sen bir Türk edebiyatı uzmanısın. Türk şiir literatürünü çok iyi biliyorsun.\n",
        "Özellikle de Orhan Veli şiirlerini çok iyi biliyorsun.\n",
        "Sana verilen Orhan Veli şiirlerinde ele alınan konuyu, temayı, duyguyu, şiirdeki başlıca motifleri tespit edebiliyorsun.\n",
        "Yanıtını verirken bu tespit ettiğin konu, tema, duygu veya motifleri aralarında birer virgül olacak şekilde yazıyorsun.\n",
        "Yanıtında sadece bunları yazıyorsun. Başka hiçbir açıklama ya da ek bilgi vermiyorsun.\n",
        "\"\"\"\n",
        "\n",
        "prompt = \"Orhan Veli'nin aşağıdaki şiirinde ele alınan konu, tema, duygu veya motifleri yaz.\"\n",
        "\n",
        "source_file_path=\"./data/siir.xlsx\"\n",
        "target_file_path=source_file_path\n",
        "\n",
        "st.set_page_config(page_title=\"Şiir Etiketleme Uygulaması\")\n",
        "st.title(\"Şiir Etiketleme Uygulaması\")\n",
        "st.divider()\n",
        "\n",
        "start_row = st.number_input(\"Başlangıç Satırı\",min_value=1, value=1)\n",
        "end_row = st.number_input(\"Bitiş Satırı\", min_value=1, value=10)\n",
        "submit_btn = st.button(label=\"Etiketle\")\n",
        "\n",
        "if submit_btn:\n",
        "\n",
        "  df = pd.read_excel(source_file_path, engine=\"openpyxl\")\n",
        "\n",
        "  progress_bar = st.progress(0)\n",
        "  total_rows = end_row - start_row + 1\n",
        "\n",
        "  for index, row in df.iloc[start_row-1:end_row].iterrows():\n",
        "\n",
        "    try:\n",
        "      siir = row['siir']\n",
        "\n",
        "      full_prompt = f\"{system_prompt} {prompt} {siir}\"\n",
        "\n",
        "      AI_response = llm_gemini.invoke(input=full_prompt)\n",
        "\n",
        "      df.at[index, 'response'] = AI_response.content\n"
      ]
    }
  ]
}