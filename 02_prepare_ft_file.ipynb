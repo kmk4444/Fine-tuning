{
  "nbformat": 4,
  "nbformat_minor": 0,
  "metadata": {
    "colab": {
      "provenance": [],
      "authorship_tag": "ABX9TyO3AP8tYHLeaxl1bBOnC8zk",
      "include_colab_link": true
    },
    "kernelspec": {
      "name": "python3",
      "display_name": "Python 3"
    },
    "language_info": {
      "name": "python"
    }
  },
  "cells": [
    {
      "cell_type": "markdown",
      "metadata": {
        "id": "view-in-github",
        "colab_type": "text"
      },
      "source": [
        "<a href=\"https://colab.research.google.com/github/kmk4444/Fine-tuning/blob/main/02_prepare_ft_file.ipynb\" target=\"_parent\"><img src=\"https://colab.research.google.com/assets/colab-badge.svg\" alt=\"Open In Colab\"/></a>"
      ]
    },
    {
      "cell_type": "markdown",
      "source": [
        "We convert excel file into json file because of openai documentation."
      ],
      "metadata": {
        "id": "IZgQWhrR0DmE"
      }
    },
    {
      "cell_type": "code",
      "source": [
        "import pandas as pd\n",
        "import json\n",
        "\n",
        "excel_file_path='/content/siir.xlsx'\n",
        "jsonl_file_path = '/content/siir.jsonl'\n",
        "\n",
        "df = pd.read_excel(excel_file_path)\n",
        "\n",
        "system_prompt = \"\"\"Sen ünlü Türk şairi Orhan Veli'sin.\n",
        "Sana verilen konu, tema, duygu, motifler veya anahtar kelimelerle ilgili şiirler yazıyorsun.\n",
        "Yanıt olarak sadece şiir yazıyorsun. Yanıtında başka hiçbir açıklama ya da metne yer vermiyorsun.\n",
        "Yalnızca, verilen kelimelerle alakalı yazdığın şiiri yanıt olarak iletiyorsun.\n",
        "\"\"\"\n",
        "\n",
        "with open(jsonl_file_path, \"w\", encoding=\"utf-8\") as jsonl_file: # This line opens the JSONL file specified by jsonl_file_path in write mode (\"w\") using the open() function.\n",
        "  #encoding='utf-8' argument ensures that the file is handled with UTF-8 encoding, which is suitable for Turkish characters.\n",
        "  for index, row in df.iterrows():\n",
        "    #index: This variable holds the index of the current row.\n",
        "    #row: This variable represents the data of the current row.\n",
        "    user_query = f\"Şunlarla ilgili bir şiir yazar mısın? {row['response']}\"\n",
        "\n",
        "    #This line defines a key named \"messages\" within the JSON object.\n",
        "    #This line defines an array of JSON objects within the \"messages\" key.\n",
        "    json_object ={\n",
        "        \"messages\": [\n",
        "            {\"role\": \"system\", \"content\": system_prompt},\n",
        "            {\"role\": \"user\", \"content\": user_query},\n",
        "            {\"role\": \"assistant\", \"content\": row['siir']}\n",
        "        ]\n",
        "    }\n",
        "\n",
        "    jsonl_file.write(json.dumps(json_object, ensure_ascii=False) + \"\\n\")\n"
      ],
      "metadata": {
        "id": "aYiBbzmz0SJr"
      },
      "execution_count": 3,
      "outputs": []
    }
  ]
}