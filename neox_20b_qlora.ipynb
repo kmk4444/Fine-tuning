{
  "nbformat": 4,
  "nbformat_minor": 0,
  "metadata": {
    "colab": {
      "provenance": [],
      "authorship_tag": "ABX9TyOPR6Wik1u+NtX1J9HqXp8N",
      "include_colab_link": true
    },
    "kernelspec": {
      "name": "python3",
      "display_name": "Python 3"
    },
    "language_info": {
      "name": "python"
    }
  },
  "cells": [
    {
      "cell_type": "markdown",
      "metadata": {
        "id": "view-in-github",
        "colab_type": "text"
      },
      "source": [
        "<a href=\"https://colab.research.google.com/github/kmk4444/Fine-tuning/blob/main/neox_20b_qlora.ipynb\" target=\"_parent\"><img src=\"https://colab.research.google.com/assets/colab-badge.svg\" alt=\"Open In Colab\"/></a>"
      ]
    },
    {
      "cell_type": "markdown",
      "source": [
        "# Load the Base Model\n",
        "\n",
        "In this section, we setup the base model for usage."
      ],
      "metadata": {
        "id": "d72o-rmcZYKW"
      }
    },
    {
      "cell_type": "markdown",
      "source": [
        "# Install dependencies\n",
        "\n",
        "In order to get started we need to install the appropriate dependencies."
      ],
      "metadata": {
        "id": "EgtOS0m_Zgx7"
      }
    },
    {
      "cell_type": "code",
      "execution_count": null,
      "metadata": {
        "id": "1lBLPvrfY8d_"
      },
      "outputs": [],
      "source": [
        "# install dependencies\n",
        "!pip install -q -U bitsandbytes\n",
        "!pip install -q -U git+https://github.com/huggingface/transformers.git\n",
        "!pip install -q -U git+https://github.com/huggingface/peft.git\n",
        "!pip install -q -U git+https://github.com/huggingface/accelerate.git\n",
        "!pip install -q datasets\n"
      ]
    },
    {
      "cell_type": "markdown",
      "source": [
        "# Download the base model\n",
        "\n",
        "The following will download the base model, in this case the EleutherAI/gpt-neox-20b."
      ],
      "metadata": {
        "id": "GqOgL6zBbAEZ"
      }
    },
    {
      "cell_type": "code",
      "source": [
        "import torch\n",
        "from transformers import AutoModelForCausalLM, AutoTokenizer, BitsAndBytesConfig\n",
        "\n",
        "model_id = \"EleutherAI/gpt-neox-20b\"\n",
        "bnb_config = BitsAndBytesConfig(\n",
        "    load_in_4bit=True,\n",
        "\n",
        ")"
      ],
      "metadata": {
        "id": "LMW9IVgzddvj"
      },
      "execution_count": null,
      "outputs": []
    }
  ]
}